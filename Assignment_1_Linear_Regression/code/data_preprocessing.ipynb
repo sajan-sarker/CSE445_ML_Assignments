{
  "nbformat": 4,
  "nbformat_minor": 0,
  "metadata": {
    "colab": {
      "provenance": []
    },
    "kernelspec": {
      "name": "python3",
      "display_name": "Python 3"
    },
    "language_info": {
      "name": "python"
    }
  },
  "cells": [
    {
      "cell_type": "code",
      "execution_count": 35,
      "metadata": {
        "id": "EhSg8fMsAZjx"
      },
      "outputs": [],
      "source": [
        "import numpy as np\n",
        "import pandas as pd\n",
        "import math, copy"
      ]
    },
    {
      "cell_type": "code",
      "source": [
        "# Set Pandas options to display all columns\n",
        "pd.set_option('display.max_columns', None)  # Show all columns\n",
        "pd.set_option('display.expand_frame_repr', False)  # Do not wrap to new line\n",
        "pd.set_option('display.max_colwidth', None)  # No column width limit"
      ],
      "metadata": {
        "id": "ZepmLouCcYKQ"
      },
      "execution_count": 36,
      "outputs": []
    },
    {
      "cell_type": "markdown",
      "source": [
        "Install the ucimlrepo package"
      ],
      "metadata": {
        "id": "j1w8Sa5z73Ds"
      }
    },
    {
      "cell_type": "code",
      "source": [
        "pip install ucimlrepo"
      ],
      "metadata": {
        "id": "SjXiEI6XVoLE",
        "colab": {
          "base_uri": "https://localhost:8080/"
        },
        "outputId": "facd913c-eb0a-4e28-b21e-23920a4d60fa"
      },
      "execution_count": 37,
      "outputs": [
        {
          "output_type": "stream",
          "name": "stdout",
          "text": [
            "Requirement already satisfied: ucimlrepo in /usr/local/lib/python3.10/dist-packages (0.0.7)\n",
            "Requirement already satisfied: pandas>=1.0.0 in /usr/local/lib/python3.10/dist-packages (from ucimlrepo) (2.1.4)\n",
            "Requirement already satisfied: certifi>=2020.12.5 in /usr/local/lib/python3.10/dist-packages (from ucimlrepo) (2024.8.30)\n",
            "Requirement already satisfied: numpy<2,>=1.22.4 in /usr/local/lib/python3.10/dist-packages (from pandas>=1.0.0->ucimlrepo) (1.26.4)\n",
            "Requirement already satisfied: python-dateutil>=2.8.2 in /usr/local/lib/python3.10/dist-packages (from pandas>=1.0.0->ucimlrepo) (2.8.2)\n",
            "Requirement already satisfied: pytz>=2020.1 in /usr/local/lib/python3.10/dist-packages (from pandas>=1.0.0->ucimlrepo) (2024.2)\n",
            "Requirement already satisfied: tzdata>=2022.1 in /usr/local/lib/python3.10/dist-packages (from pandas>=1.0.0->ucimlrepo) (2024.1)\n",
            "Requirement already satisfied: six>=1.5 in /usr/local/lib/python3.10/dist-packages (from python-dateutil>=2.8.2->pandas>=1.0.0->ucimlrepo) (1.16.0)\n"
          ]
        }
      ]
    },
    {
      "cell_type": "markdown",
      "source": [
        "**Import the dataset**"
      ],
      "metadata": {
        "id": "3T0yl5dlc1OI"
      }
    },
    {
      "cell_type": "code",
      "source": [
        "from ucimlrepo import fetch_ucirepo\n",
        "\n",
        "# fetch dataset\n",
        "air_quality = fetch_ucirepo(id=360)\n",
        "\n",
        "# data (as pandas dataframes)\n",
        "air_quality_data = air_quality.data.features\n",
        "#y = air_quality.data.targets"
      ],
      "metadata": {
        "id": "oMktmlG5VyI0"
      },
      "execution_count": 38,
      "outputs": []
    },
    {
      "cell_type": "code",
      "source": [
        "print(air_quality_data.head())\n",
        "print()\n",
        "print(air_quality_data.tail())"
      ],
      "metadata": {
        "id": "YFFrbXaZaIGF",
        "colab": {
          "base_uri": "https://localhost:8080/"
        },
        "outputId": "39d88d12-c107-49bf-8d3a-d8772f2dbffa"
      },
      "execution_count": 39,
      "outputs": [
        {
          "output_type": "stream",
          "name": "stdout",
          "text": [
            "        Date      Time  CO(GT)  PT08.S1(CO)  NMHC(GT)  C6H6(GT)  PT08.S2(NMHC)  NOx(GT)  PT08.S3(NOx)  NO2(GT)  PT08.S4(NO2)  PT08.S5(O3)     T    RH      AH\n",
            "0  3/10/2004  18:00:00     2.6         1360       150      11.9           1046      166          1056      113          1692         1268  13.6  48.9  0.7578\n",
            "1  3/10/2004  19:00:00     2.0         1292       112       9.4            955      103          1174       92          1559          972  13.3  47.7  0.7255\n",
            "2  3/10/2004  20:00:00     2.2         1402        88       9.0            939      131          1140      114          1555         1074  11.9  54.0  0.7502\n",
            "3  3/10/2004  21:00:00     2.2         1376        80       9.2            948      172          1092      122          1584         1203  11.0  60.0  0.7867\n",
            "4  3/10/2004  22:00:00     1.6         1272        51       6.5            836      131          1205      116          1490         1110  11.2  59.6  0.7888\n",
            "\n",
            "          Date      Time  CO(GT)  PT08.S1(CO)  NMHC(GT)  C6H6(GT)  PT08.S2(NMHC)  NOx(GT)  PT08.S3(NOx)  NO2(GT)  PT08.S4(NO2)  PT08.S5(O3)     T    RH      AH\n",
            "9352  4/4/2005  10:00:00     3.1         1314      -200      13.5           1101      472           539      190          1374         1729  21.9  29.3  0.7568\n",
            "9353  4/4/2005  11:00:00     2.4         1163      -200      11.4           1027      353           604      179          1264         1269  24.3  23.7  0.7119\n",
            "9354  4/4/2005  12:00:00     2.4         1142      -200      12.4           1063      293           603      175          1241         1092  26.9  18.3  0.6406\n",
            "9355  4/4/2005  13:00:00     2.1         1003      -200       9.5            961      235           702      156          1041          770  28.3  13.5  0.5139\n",
            "9356  4/4/2005  14:00:00     2.2         1071      -200      11.9           1047      265           654      168          1129          816  28.5  13.1  0.5028\n"
          ]
        }
      ]
    },
    {
      "cell_type": "code",
      "source": [
        "print(\"Shape of the data:\", air_quality_data.shape)"
      ],
      "metadata": {
        "colab": {
          "base_uri": "https://localhost:8080/"
        },
        "id": "B22tS1VydkMg",
        "outputId": "554cc3a7-6f81-4d9c-8593-fe578e2d0102"
      },
      "execution_count": 40,
      "outputs": [
        {
          "output_type": "stream",
          "name": "stdout",
          "text": [
            "Shape of the data: (9357, 15)\n"
          ]
        }
      ]
    },
    {
      "cell_type": "code",
      "source": [
        "# getting more info about the data\n",
        "print(air_quality_data.info())"
      ],
      "metadata": {
        "colab": {
          "base_uri": "https://localhost:8080/"
        },
        "id": "nrvXgxA0WjCj",
        "outputId": "68c6a249-efed-4c4d-ca6d-ec0ea0b8972a"
      },
      "execution_count": 41,
      "outputs": [
        {
          "output_type": "stream",
          "name": "stdout",
          "text": [
            "<class 'pandas.core.frame.DataFrame'>\n",
            "RangeIndex: 9357 entries, 0 to 9356\n",
            "Data columns (total 15 columns):\n",
            " #   Column         Non-Null Count  Dtype  \n",
            "---  ------         --------------  -----  \n",
            " 0   Date           9357 non-null   object \n",
            " 1   Time           9357 non-null   object \n",
            " 2   CO(GT)         9357 non-null   float64\n",
            " 3   PT08.S1(CO)    9357 non-null   int64  \n",
            " 4   NMHC(GT)       9357 non-null   int64  \n",
            " 5   C6H6(GT)       9357 non-null   float64\n",
            " 6   PT08.S2(NMHC)  9357 non-null   int64  \n",
            " 7   NOx(GT)        9357 non-null   int64  \n",
            " 8   PT08.S3(NOx)   9357 non-null   int64  \n",
            " 9   NO2(GT)        9357 non-null   int64  \n",
            " 10  PT08.S4(NO2)   9357 non-null   int64  \n",
            " 11  PT08.S5(O3)    9357 non-null   int64  \n",
            " 12  T              9357 non-null   float64\n",
            " 13  RH             9357 non-null   float64\n",
            " 14  AH             9357 non-null   float64\n",
            "dtypes: float64(5), int64(8), object(2)\n",
            "memory usage: 1.1+ MB\n",
            "None\n"
          ]
        }
      ]
    },
    {
      "cell_type": "code",
      "source": [
        "# checking number of missing values for each features\n",
        "print(\"Number of missing values:\")\n",
        "print(air_quality_data.isnull().sum())"
      ],
      "metadata": {
        "colab": {
          "base_uri": "https://localhost:8080/"
        },
        "id": "uHxkLVuuX1yI",
        "outputId": "9153613d-c959-4b7c-bc5e-a965544e0383"
      },
      "execution_count": 42,
      "outputs": [
        {
          "output_type": "stream",
          "name": "stdout",
          "text": [
            "Number of missing values:\n",
            "Date             0\n",
            "Time             0\n",
            "CO(GT)           0\n",
            "PT08.S1(CO)      0\n",
            "NMHC(GT)         0\n",
            "C6H6(GT)         0\n",
            "PT08.S2(NMHC)    0\n",
            "NOx(GT)          0\n",
            "PT08.S3(NOx)     0\n",
            "NO2(GT)          0\n",
            "PT08.S4(NO2)     0\n",
            "PT08.S5(O3)      0\n",
            "T                0\n",
            "RH               0\n",
            "AH               0\n",
            "dtype: int64\n"
          ]
        }
      ]
    },
    {
      "cell_type": "code",
      "source": [
        "# Missing values are tagged with -200 value.\n",
        "def find_missing_value(data):\n",
        "  for column in data.columns:\n",
        "    count = 0\n",
        "    count = (data[column] == -200).sum()\n",
        "    print(f\"{column:13} has {count:5} occurrences.\")\n",
        "\n",
        "  return data\n",
        "\n",
        "air_quality_data = find_missing_value(air_quality_data)"
      ],
      "metadata": {
        "colab": {
          "base_uri": "https://localhost:8080/"
        },
        "id": "ZfcXFZYRYcIu",
        "outputId": "a250cc50-d68a-4615-e88d-7d400026cdc8"
      },
      "execution_count": 43,
      "outputs": [
        {
          "output_type": "stream",
          "name": "stdout",
          "text": [
            "Date          has     0 occurrences.\n",
            "Time          has     0 occurrences.\n",
            "CO(GT)        has  1683 occurrences.\n",
            "PT08.S1(CO)   has   366 occurrences.\n",
            "NMHC(GT)      has  8443 occurrences.\n",
            "C6H6(GT)      has   366 occurrences.\n",
            "PT08.S2(NMHC) has   366 occurrences.\n",
            "NOx(GT)       has  1639 occurrences.\n",
            "PT08.S3(NOx)  has   366 occurrences.\n",
            "NO2(GT)       has  1642 occurrences.\n",
            "PT08.S4(NO2)  has   366 occurrences.\n",
            "PT08.S5(O3)   has   366 occurrences.\n",
            "T             has   366 occurrences.\n",
            "RH            has   366 occurrences.\n",
            "AH            has   366 occurrences.\n"
          ]
        }
      ]
    },
    {
      "cell_type": "code",
      "source": [
        "# replacing -200 with mean of each features.\n",
        "def replace_with_mean(data):\n",
        "  for column in data.columns:\n",
        "    if pd.api.types.is_numeric_dtype(data[column]):\n",
        "      mean_value = data[data[column] != -200][column].mean()\n",
        "      data[column] = data[column].replace(-200, mean_value)\n",
        "      print(f\"Mean of {column:13} is: {mean_value:8.4f}\")\n",
        "  return data\n",
        "\n",
        "air_quality_data = replace_with_mean(air_quality_data)"
      ],
      "metadata": {
        "colab": {
          "base_uri": "https://localhost:8080/"
        },
        "id": "xnnpsljkbL92",
        "outputId": "d93e06cb-b09b-4965-a078-97f4c823e83d"
      },
      "execution_count": 44,
      "outputs": [
        {
          "output_type": "stream",
          "name": "stdout",
          "text": [
            "Mean of CO(GT)        is:   2.1527\n",
            "Mean of PT08.S1(CO)   is: 1099.8332\n",
            "Mean of NMHC(GT)      is: 218.8118\n",
            "Mean of C6H6(GT)      is:  10.0831\n",
            "Mean of PT08.S2(NMHC) is: 939.1534\n",
            "Mean of NOx(GT)       is: 246.8967\n",
            "Mean of PT08.S3(NOx)  is: 835.4936\n",
            "Mean of NO2(GT)       is: 113.0913\n",
            "Mean of PT08.S4(NO2)  is: 1456.2646\n",
            "Mean of PT08.S5(O3)   is: 1022.9061\n",
            "Mean of T             is:  18.3178\n",
            "Mean of RH            is:  49.2342\n",
            "Mean of AH            is:   1.0255\n"
          ]
        }
      ]
    },
    {
      "cell_type": "code",
      "source": [
        "# after replacing with mean\n",
        "air_quality_data = find_missing_value(air_quality_data)"
      ],
      "metadata": {
        "colab": {
          "base_uri": "https://localhost:8080/"
        },
        "id": "vzsAYjlLfPep",
        "outputId": "d2f38651-0448-4ae9-9e01-27a8d52993d3"
      },
      "execution_count": 45,
      "outputs": [
        {
          "output_type": "stream",
          "name": "stdout",
          "text": [
            "Date          has     0 occurrences.\n",
            "Time          has     0 occurrences.\n",
            "CO(GT)        has     0 occurrences.\n",
            "PT08.S1(CO)   has     0 occurrences.\n",
            "NMHC(GT)      has     0 occurrences.\n",
            "C6H6(GT)      has     0 occurrences.\n",
            "PT08.S2(NMHC) has     0 occurrences.\n",
            "NOx(GT)       has     0 occurrences.\n",
            "PT08.S3(NOx)  has     0 occurrences.\n",
            "NO2(GT)       has     0 occurrences.\n",
            "PT08.S4(NO2)  has     0 occurrences.\n",
            "PT08.S5(O3)   has     0 occurrences.\n",
            "T             has     0 occurrences.\n",
            "RH            has     0 occurrences.\n",
            "AH            has     0 occurrences.\n"
          ]
        }
      ]
    },
    {
      "cell_type": "markdown",
      "source": [
        "**To Perform Multivariate linear regression using gradient descent on the Air Quality dataset and report Mean Squared Error (MSE) for training and testing dataset we don't need the date & time features.**"
      ],
      "metadata": {
        "id": "SmxThA6F_Cyl"
      }
    },
    {
      "cell_type": "markdown",
      "source": [
        "**Now Spliting the dataset 75% for for training data and 25% for test data**"
      ],
      "metadata": {
        "id": "iYwWQ0eJ_KU-"
      }
    },
    {
      "cell_type": "code",
      "source": [
        "print(air_quality_data.shape)\n",
        "print(air_quality_data.head())"
      ],
      "metadata": {
        "colab": {
          "base_uri": "https://localhost:8080/"
        },
        "id": "A1rxW356EkY2",
        "outputId": "bd016948-0d85-4390-a9ba-8c2208ddc3e4"
      },
      "execution_count": 49,
      "outputs": [
        {
          "output_type": "stream",
          "name": "stdout",
          "text": [
            "(9357, 13)\n",
            "   CO(GT)  PT08.S1(CO)  NMHC(GT)  C6H6(GT)  PT08.S2(NMHC)  NOx(GT)  PT08.S3(NOx)  NO2(GT)  PT08.S4(NO2)  PT08.S5(O3)     T    RH      AH\n",
            "0     2.6       1360.0     150.0      11.9         1046.0    166.0        1056.0    113.0        1692.0       1268.0  13.6  48.9  0.7578\n",
            "1     2.0       1292.0     112.0       9.4          955.0    103.0        1174.0     92.0        1559.0        972.0  13.3  47.7  0.7255\n",
            "2     2.2       1402.0      88.0       9.0          939.0    131.0        1140.0    114.0        1555.0       1074.0  11.9  54.0  0.7502\n",
            "3     2.2       1376.0      80.0       9.2          948.0    172.0        1092.0    122.0        1584.0       1203.0  11.0  60.0  0.7867\n",
            "4     1.6       1272.0      51.0       6.5          836.0    131.0        1205.0    116.0        1490.0       1110.0  11.2  59.6  0.7888\n"
          ]
        }
      ]
    },
    {
      "cell_type": "code",
      "source": [
        "# removing date, time features\n",
        "air_quality_data = air_quality_data.iloc[:, 2:]\n",
        "\n",
        "# find index number of 75% data\n",
        "train_data_index = int(len(air_quality_data) * 0.75)\n",
        "\n",
        "train_data = air_quality_data[:train_data_index] # train data\n",
        "test_data = air_quality_data[train_data_index:]  # test data\n",
        "\n",
        "train_data.to_csv('./AirQualityTrainingData.csv', index=False)\n",
        "test_data.to_csv('./AirQualityTestData.csv', index=False)\n",
        "\n",
        "print(f\"Shape of Whole Dataset: {air_quality_data.shape}, Length of dataset: {len(air_quality_data)}\")\n",
        "print(f\"Shape of Training Dataset: {train_data.shape}, Length of dataset: {len(train_data)}\")\n",
        "print(f\"Shape of Test Dataset: {test_data.shape}, Length of dataset: {len(test_data)}\")"
      ],
      "metadata": {
        "id": "120BiLl4gJ0y",
        "colab": {
          "base_uri": "https://localhost:8080/"
        },
        "outputId": "952131a1-6d59-4ca7-9d42-b1c97370de85"
      },
      "execution_count": 47,
      "outputs": [
        {
          "output_type": "stream",
          "name": "stdout",
          "text": [
            "Shape of Whole Dataset: (9357, 13), Length of dataset: 9357\n",
            "Shape of Training Dataset: (7017, 13), Length of dataset: 7017\n",
            "Shape of Test Dataset: (2340, 13), Length of dataset: 2340\n"
          ]
        }
      ]
    },
    {
      "cell_type": "code",
      "source": [
        "print(train_data.head())"
      ],
      "metadata": {
        "colab": {
          "base_uri": "https://localhost:8080/"
        },
        "id": "-pOdzS3eFEz-",
        "outputId": "e76fe96d-e071-4544-dab4-311a09c0ea88"
      },
      "execution_count": 48,
      "outputs": [
        {
          "output_type": "stream",
          "name": "stdout",
          "text": [
            "   CO(GT)  PT08.S1(CO)  NMHC(GT)  C6H6(GT)  PT08.S2(NMHC)  NOx(GT)  PT08.S3(NOx)  NO2(GT)  PT08.S4(NO2)  PT08.S5(O3)     T    RH      AH\n",
            "0     2.6       1360.0     150.0      11.9         1046.0    166.0        1056.0    113.0        1692.0       1268.0  13.6  48.9  0.7578\n",
            "1     2.0       1292.0     112.0       9.4          955.0    103.0        1174.0     92.0        1559.0        972.0  13.3  47.7  0.7255\n",
            "2     2.2       1402.0      88.0       9.0          939.0    131.0        1140.0    114.0        1555.0       1074.0  11.9  54.0  0.7502\n",
            "3     2.2       1376.0      80.0       9.2          948.0    172.0        1092.0    122.0        1584.0       1203.0  11.0  60.0  0.7867\n",
            "4     1.6       1272.0      51.0       6.5          836.0    131.0        1205.0    116.0        1490.0       1110.0  11.2  59.6  0.7888\n"
          ]
        }
      ]
    }
  ]
}