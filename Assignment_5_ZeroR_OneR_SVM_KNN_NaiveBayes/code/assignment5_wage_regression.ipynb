{
  "cells": [
    {
      "cell_type": "markdown",
      "metadata": {
        "id": "EkIm8uVr4VIZ"
      },
      "source": [
        "Assignment 5 \\\n",
        "Part 3: DT-Wage Regression \\\n",
        "Submitted by Group 5 \\\n",
        "\n",
        "Groupmembers:\n",
        "\n",
        "1. Sajan Kumer Sarker (2111131642) (sajan.sarker@northsouth.edu)\n",
        "2. Rafsan Jani Chowdhury (2011424642) (rafsan.chowdhury@northsouth.edu)\n",
        "3. Rosely Mohammad (2014219642) (rosely.mohammad@northsouth.edu)\n",
        "\n",
        "Task: \\\n",
        "1) Support vector regression (SVR)\n",
        "\n",
        "\n",
        "**For Regression problem: Mean-squared error**"
      ]
    },
    {
      "cell_type": "code",
      "execution_count": 1,
      "metadata": {
        "colab": {
          "base_uri": "https://localhost:8080/"
        },
        "id": "WZyL7OpxqxE7",
        "outputId": "ba461c08-9c50-4491-872d-1f705ce1a973"
      },
      "outputs": [
        {
          "output_type": "stream",
          "name": "stdout",
          "text": [
            "Mounted at /content/drive\n"
          ]
        }
      ],
      "source": [
        "from google.colab import drive\n",
        "drive.mount('/content/drive')"
      ]
    },
    {
      "cell_type": "code",
      "execution_count": 2,
      "metadata": {
        "id": "pUFIEMMEHpgN"
      },
      "outputs": [],
      "source": [
        "import pandas as pd\n",
        "import numpy as np\n",
        "import matplotlib.pyplot as plt\n",
        "%matplotlib inline\n",
        "import math\n",
        "import seaborn as sns\n",
        "import warnings\n",
        "warnings.filterwarnings('ignore')\n",
        "from sklearn.model_selection import train_test_split, GridSearchCV\n",
        "from sklearn.preprocessing import LabelEncoder, OneHotEncoder, StandardScaler\n",
        "from sklearn.svm import SVC, SVR\n",
        "from sklearn.neighbors import KNeighborsClassifier\n",
        "from sklearn.naive_bayes import GaussianNB\n",
        "from collections import defaultdict"
      ]
    },
    {
      "cell_type": "code",
      "execution_count": 3,
      "metadata": {
        "colab": {
          "base_uri": "https://localhost:8080/"
        },
        "id": "57CKyPHsrbRZ",
        "outputId": "eababd72-cadd-4b8f-ccea-151bf019ab73"
      },
      "outputs": [
        {
          "output_type": "stream",
          "name": "stdout",
          "text": [
            "(3000, 11)\n",
            "   year  age            maritl      race        education              region  \\\n",
            "0  2006   18  1. Never Married  1. White     1. < HS Grad  2. Middle Atlantic   \n",
            "1  2004   24  1. Never Married  1. White  4. College Grad  2. Middle Atlantic   \n",
            "2  2003   45        2. Married  1. White  3. Some College  2. Middle Atlantic   \n",
            "3  2003   43        2. Married  3. Asian  4. College Grad  2. Middle Atlantic   \n",
            "4  2005   50       4. Divorced  1. White       2. HS Grad  2. Middle Atlantic   \n",
            "\n",
            "         jobclass          health health_ins   logwage        wage  \n",
            "0   1. Industrial       1. <=Good      2. No  4.318063   75.043154  \n",
            "1  2. Information  2. >=Very Good      2. No  4.255273   70.476020  \n",
            "2   1. Industrial       1. <=Good     1. Yes  4.875061  130.982177  \n",
            "3  2. Information  2. >=Very Good     1. Yes  5.041393  154.685293  \n",
            "4  2. Information       1. <=Good     1. Yes  4.318063   75.043154  \n"
          ]
        }
      ],
      "source": [
        "df = pd.read_csv('/content/drive/MyDrive/CSE445-Assignment/dataset/DT-Wage.csv')\n",
        "print(df.shape)\n",
        "print(df.head())"
      ]
    },
    {
      "cell_type": "code",
      "execution_count": 4,
      "metadata": {
        "colab": {
          "base_uri": "https://localhost:8080/"
        },
        "id": "NeXlghvLrcb4",
        "outputId": "580d3f02-6591-4ea8-db20-341354078241"
      },
      "outputs": [
        {
          "output_type": "stream",
          "name": "stdout",
          "text": [
            "Number of missing values: \n",
            "year          0\n",
            "age           0\n",
            "maritl        0\n",
            "race          0\n",
            "education     0\n",
            "region        0\n",
            "jobclass      0\n",
            "health        0\n",
            "health_ins    0\n",
            "logwage       0\n",
            "wage          0\n",
            "dtype: int64\n"
          ]
        }
      ],
      "source": [
        "print('Number of missing values: ')\n",
        "print(df.isnull().sum())"
      ]
    },
    {
      "cell_type": "code",
      "execution_count": 5,
      "metadata": {
        "colab": {
          "base_uri": "https://localhost:8080/"
        },
        "id": "JPFx_4n-sHgK",
        "outputId": "1cedca31-50e4-4f8d-f169-5781d9ccd171"
      },
      "outputs": [
        {
          "output_type": "stream",
          "name": "stdout",
          "text": [
            "(3000, 25)\n",
            "   year  age   logwage        wage  maritl_1. Never Married  \\\n",
            "0  2006   18  4.318063   75.043154                     True   \n",
            "1  2004   24  4.255273   70.476020                     True   \n",
            "2  2003   45  4.875061  130.982177                    False   \n",
            "3  2003   43  5.041393  154.685293                    False   \n",
            "4  2005   50  4.318063   75.043154                    False   \n",
            "\n",
            "   maritl_2. Married  maritl_3. Widowed  maritl_4. Divorced  \\\n",
            "0              False              False               False   \n",
            "1              False              False               False   \n",
            "2               True              False               False   \n",
            "3               True              False               False   \n",
            "4              False              False                True   \n",
            "\n",
            "   maritl_5. Separated  race_1. White  ...  education_3. Some College  \\\n",
            "0                False           True  ...                      False   \n",
            "1                False           True  ...                      False   \n",
            "2                False           True  ...                       True   \n",
            "3                False          False  ...                      False   \n",
            "4                False           True  ...                      False   \n",
            "\n",
            "   education_4. College Grad  education_5. Advanced Degree  \\\n",
            "0                      False                         False   \n",
            "1                       True                         False   \n",
            "2                      False                         False   \n",
            "3                       True                         False   \n",
            "4                      False                         False   \n",
            "\n",
            "   region_2. Middle Atlantic  jobclass_1. Industrial  jobclass_2. Information  \\\n",
            "0                       True                    True                    False   \n",
            "1                       True                   False                     True   \n",
            "2                       True                    True                    False   \n",
            "3                       True                   False                     True   \n",
            "4                       True                   False                     True   \n",
            "\n",
            "   health_1. _=Good  health_2. >=Very Good  health_ins_1. Yes  \\\n",
            "0              True                  False              False   \n",
            "1             False                   True              False   \n",
            "2              True                  False               True   \n",
            "3             False                   True               True   \n",
            "4              True                  False               True   \n",
            "\n",
            "   health_ins_2. No  \n",
            "0              True  \n",
            "1              True  \n",
            "2             False  \n",
            "3             False  \n",
            "4             False  \n",
            "\n",
            "[5 rows x 25 columns]\n"
          ]
        }
      ],
      "source": [
        "df = pd.get_dummies(df, columns=['maritl', 'race', 'education', 'region', 'jobclass', 'health', 'health_ins'])\n",
        "df.columns = df.columns.str.replace('[', '_').str.replace(']', '_').str.replace('<', '_')\n",
        "print(df.shape)\n",
        "print(df.head())"
      ]
    },
    {
      "cell_type": "code",
      "execution_count": 6,
      "metadata": {
        "colab": {
          "base_uri": "https://localhost:8080/"
        },
        "id": "ITar_o6JtFxs",
        "outputId": "00f954ad-0aa7-4149-c5b2-86253f5c950d"
      },
      "outputs": [
        {
          "output_type": "stream",
          "name": "stdout",
          "text": [
            "Train Data Shape (X, y): ((2100, 24), (2100,))\n",
            "Validation Data Shape (X, y): ((450, 24), (450,))\n",
            "Test Data Shape (X, y): ((450, 24), (450,))\n"
          ]
        }
      ],
      "source": [
        "X = df.drop(columns=['wage'])\n",
        "y = df['wage']\n",
        "\n",
        "X_train, X_temp, y_train, y_temp = train_test_split(X, y, test_size=0.3, random_state=42)\n",
        "X_val, X_test, y_val, y_test = train_test_split(X_temp, y_temp, test_size=0.5, random_state=42)\n",
        "\n",
        "print(f'Train Data Shape (X, y): {X_train.shape, y_train.shape}')\n",
        "print(f'Validation Data Shape (X, y): {X_val.shape, y_val.shape}')\n",
        "print(f'Test Data Shape (X, y): {X_test.shape, y_test.shape}')"
      ]
    },
    {
      "cell_type": "code",
      "source": [
        "# mse calculation\n",
        "def mse(y_actual, y_pred):\n",
        "    error = 0.0\n",
        "\n",
        "    for actual, predicted in zip(y_actual, y_pred):\n",
        "        error += (actual - predicted) ** 2\n",
        "    mse = error / len(y_actual)\n",
        "    return mse"
      ],
      "metadata": {
        "id": "aPcAgG58R6Jg"
      },
      "execution_count": 8,
      "outputs": []
    },
    {
      "cell_type": "code",
      "source": [
        "# SVM base model\n",
        "svm_base = SVR()\n",
        "svm_base.fit(X_train, y_train)\n",
        "\n",
        "y_val_pred = svm_base.predict(X_val)\n",
        "print('Validation Set MSE:', mse(y_val, y_val_pred))"
      ],
      "metadata": {
        "colab": {
          "base_uri": "https://localhost:8080/"
        },
        "id": "Mr--56xxRkBn",
        "outputId": "88866853-892a-4756-bef1-f76312720c8e"
      },
      "execution_count": 9,
      "outputs": [
        {
          "output_type": "stream",
          "name": "stdout",
          "text": [
            "Validation Set MSE: 1680.9641962289247\n"
          ]
        }
      ]
    },
    {
      "cell_type": "code",
      "source": [
        "param_grid = {\n",
        "    'C': [0.1, 1, 10, 100],\n",
        "    'epsilon': [0.01, 0.1, 0.2, 0.5],\n",
        "    'kernel': ['linear', 'rbf', 'poly']\n",
        "}\n",
        "\n",
        "svr = SVR()\n",
        "svm_grid_search = GridSearchCV(estimator=svr, param_grid=param_grid, cv=5, scoring='neg_mean_squared_error', n_jobs=-1, verbose=1)\n",
        "svm_grid_search.fit(X_train, y_train)\n",
        "\n",
        "best_params = svm_grid_search.best_params_\n",
        "print(\"Best Parameters:\", best_params)"
      ],
      "metadata": {
        "colab": {
          "base_uri": "https://localhost:8080/"
        },
        "id": "9ritp9aESIoX",
        "outputId": "d990c6c5-446f-422d-91ea-f2e2598ff2d0"
      },
      "execution_count": 10,
      "outputs": [
        {
          "output_type": "stream",
          "name": "stdout",
          "text": [
            "Fitting 5 folds for each of 48 candidates, totalling 240 fits\n",
            "Best Parameters: {'C': 1, 'epsilon': 0.5, 'kernel': 'linear'}\n"
          ]
        }
      ]
    },
    {
      "cell_type": "code",
      "source": [
        "svm_final = SVR(**best_params)\n",
        "svm_final.fit(X_train, y_train)\n",
        "\n",
        "y_val_pred = svm_final.predict(X_val)\n",
        "print('Validation Set MSE:', mse(y_val, y_val_pred))"
      ],
      "metadata": {
        "colab": {
          "base_uri": "https://localhost:8080/"
        },
        "id": "8gZK519mU9RQ",
        "outputId": "3326c802-2e81-465e-a510-e3c67e034734"
      },
      "execution_count": 11,
      "outputs": [
        {
          "output_type": "stream",
          "name": "stdout",
          "text": [
            "Validation Set MSE: 375.3116751678494\n"
          ]
        }
      ]
    },
    {
      "cell_type": "code",
      "execution_count": 14,
      "metadata": {
        "id": "yhf-xWU-uz4x",
        "colab": {
          "base_uri": "https://localhost:8080/"
        },
        "outputId": "04666ae4-34d8-44c5-9093-1f1c92a6b65f"
      },
      "outputs": [
        {
          "output_type": "stream",
          "name": "stdout",
          "text": [
            "Test Set MSE: 358.61853766502287\n"
          ]
        }
      ],
      "source": [
        "# now retrain the model on the combined training and validation set with the best hyperparameters\n",
        "X_train_val = np.concatenate((X_train, X_val))\n",
        "y_train_val = np.concatenate((y_train, y_val))\n",
        "\n",
        "svm_final.fit(X_train_val, y_train_val)\n",
        "\n",
        "y_test_pred = svm_final.predict(X_test)\n",
        "print('Test Set MSE:', mse(y_test, y_test_pred))"
      ]
    }
  ],
  "metadata": {
    "colab": {
      "provenance": []
    },
    "kernelspec": {
      "display_name": "Python 3",
      "name": "python3"
    },
    "language_info": {
      "name": "python"
    }
  },
  "nbformat": 4,
  "nbformat_minor": 0
}