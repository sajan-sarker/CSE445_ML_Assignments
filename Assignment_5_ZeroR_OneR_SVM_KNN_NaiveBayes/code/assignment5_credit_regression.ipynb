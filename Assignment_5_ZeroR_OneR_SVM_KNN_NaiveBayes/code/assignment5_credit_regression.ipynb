{
  "nbformat": 4,
  "nbformat_minor": 0,
  "metadata": {
    "colab": {
      "provenance": []
    },
    "kernelspec": {
      "name": "python3",
      "display_name": "Python 3"
    },
    "language_info": {
      "name": "python"
    }
  },
  "cells": [
    {
      "cell_type": "markdown",
      "source": [
        "Assignment 5 \\\n",
        "Part 4: DT-Credit Regression \\\n",
        "Submitted by Group 5 \\\n",
        "\n",
        "Groupmembers:\n",
        "\n",
        "1. Sajan Kumer Sarker (2111131642) (sajan.sarker@northsouth.edu)\n",
        "2. Rafsan Jani Chowdhury (2011424642) (rafsan.chowdhury@northsouth.edu)\n",
        "3. Rosely Mohammad (2014219642) (rosely.mohammad@northsouth.edu)\n",
        "\n",
        "Task: \\\n",
        "1) Support vector regression (SVR)\n",
        "\n",
        "\n",
        "**For Regression problem: Mean-squared error**"
      ],
      "metadata": {
        "id": "zsLv1NCb3yUS"
      }
    },
    {
      "cell_type": "code",
      "execution_count": 1,
      "metadata": {
        "colab": {
          "base_uri": "https://localhost:8080/"
        },
        "id": "SE5n0aE3veuS",
        "outputId": "8f195d9d-e0a3-40cf-d790-5c89355940ca"
      },
      "outputs": [
        {
          "output_type": "stream",
          "name": "stdout",
          "text": [
            "Mounted at /content/drive\n"
          ]
        }
      ],
      "source": [
        "from google.colab import drive\n",
        "drive.mount('/content/drive')"
      ]
    },
    {
      "cell_type": "code",
      "source": [
        "import pandas as pd\n",
        "import numpy as np\n",
        "import matplotlib.pyplot as plt\n",
        "%matplotlib inline\n",
        "import math\n",
        "import seaborn as sns\n",
        "import warnings\n",
        "warnings.filterwarnings('ignore')\n",
        "from sklearn.model_selection import train_test_split, GridSearchCV\n",
        "from sklearn.preprocessing import LabelEncoder, OneHotEncoder, StandardScaler\n",
        "from sklearn.svm import SVC, SVR\n",
        "from sklearn.neighbors import KNeighborsClassifier\n",
        "from sklearn.naive_bayes import GaussianNB\n",
        "from collections import defaultdict"
      ],
      "metadata": {
        "id": "z1nNm6lU7IfY"
      },
      "execution_count": 2,
      "outputs": []
    },
    {
      "cell_type": "code",
      "source": [
        "df = pd.read_csv('/content/drive/MyDrive/CSE445-Assignment/dataset/DT-Credit.csv')\n",
        "print(df.shape)\n",
        "print(df.head())"
      ],
      "metadata": {
        "colab": {
          "base_uri": "https://localhost:8080/"
        },
        "id": "_L5t16WMvxnb",
        "outputId": "fca660dc-38fd-42d3-cc57-d683110b6a90"
      },
      "execution_count": 3,
      "outputs": [
        {
          "output_type": "stream",
          "name": "stdout",
          "text": [
            "(400, 11)\n",
            "    Income  Limit  Rating  Cards  Age  Education  Own Student Married Region  \\\n",
            "0   14.891   3606     283      2   34         11   No      No     Yes  South   \n",
            "1  106.025   6645     483      3   82         15  Yes     Yes     Yes   West   \n",
            "2  104.593   7075     514      4   71         11   No      No      No   West   \n",
            "3  148.924   9504     681      3   36         11  Yes      No      No   West   \n",
            "4   55.882   4897     357      2   68         16   No      No     Yes  South   \n",
            "\n",
            "   Balance  \n",
            "0      333  \n",
            "1      903  \n",
            "2      580  \n",
            "3      964  \n",
            "4      331  \n"
          ]
        }
      ]
    },
    {
      "cell_type": "code",
      "source": [
        "print('Number of missing values: ')\n",
        "print(df.isnull().sum())"
      ],
      "metadata": {
        "colab": {
          "base_uri": "https://localhost:8080/"
        },
        "id": "D6In9xcVv3B8",
        "outputId": "7f89ef60-c99c-4b62-bf9c-6204fb999fc5"
      },
      "execution_count": 4,
      "outputs": [
        {
          "output_type": "stream",
          "name": "stdout",
          "text": [
            "Number of missing values: \n",
            "Income       0\n",
            "Limit        0\n",
            "Rating       0\n",
            "Cards        0\n",
            "Age          0\n",
            "Education    0\n",
            "Own          0\n",
            "Student      0\n",
            "Married      0\n",
            "Region       0\n",
            "Balance      0\n",
            "dtype: int64\n"
          ]
        }
      ]
    },
    {
      "cell_type": "code",
      "source": [
        "df = pd.get_dummies(df, columns=['Own', 'Student', 'Married', 'Region'])\n",
        "print(df.shape)\n",
        "print(df.head())"
      ],
      "metadata": {
        "colab": {
          "base_uri": "https://localhost:8080/"
        },
        "id": "A26-ehCOv4nk",
        "outputId": "f1518abb-67f8-48ce-b577-aff72446b5e2"
      },
      "execution_count": 5,
      "outputs": [
        {
          "output_type": "stream",
          "name": "stdout",
          "text": [
            "(400, 16)\n",
            "    Income  Limit  Rating  Cards  Age  Education  Balance  Own_No  Own_Yes  \\\n",
            "0   14.891   3606     283      2   34         11      333    True    False   \n",
            "1  106.025   6645     483      3   82         15      903   False     True   \n",
            "2  104.593   7075     514      4   71         11      580    True    False   \n",
            "3  148.924   9504     681      3   36         11      964   False     True   \n",
            "4   55.882   4897     357      2   68         16      331    True    False   \n",
            "\n",
            "   Student_No  Student_Yes  Married_No  Married_Yes  Region_East  \\\n",
            "0        True        False       False         True        False   \n",
            "1       False         True       False         True        False   \n",
            "2        True        False        True        False        False   \n",
            "3        True        False        True        False        False   \n",
            "4        True        False       False         True        False   \n",
            "\n",
            "   Region_South  Region_West  \n",
            "0          True        False  \n",
            "1         False         True  \n",
            "2         False         True  \n",
            "3         False         True  \n",
            "4          True        False  \n"
          ]
        }
      ]
    },
    {
      "cell_type": "code",
      "source": [
        "X = df.drop(columns=['Balance'])\n",
        "y = df['Balance']\n",
        "\n",
        "X_train, X_temp, y_train, y_temp = train_test_split(X, y, test_size=0.3, random_state=42)\n",
        "X_val, X_test, y_val, y_test = train_test_split(X_temp, y_temp, test_size=0.5, random_state=42)\n",
        "\n",
        "print(f'Train Data Shape (X, y): {X_train.shape, y_train.shape}')\n",
        "print(f'Validation Data Shape (X, y): {X_val.shape, y_val.shape}')\n",
        "print(f'Test Data Shape (X, y): {X_test.shape, y_test.shape}')"
      ],
      "metadata": {
        "colab": {
          "base_uri": "https://localhost:8080/"
        },
        "id": "MAtCc9l7v6O1",
        "outputId": "ab588bb2-7985-4b79-c629-e25041b31206"
      },
      "execution_count": 6,
      "outputs": [
        {
          "output_type": "stream",
          "name": "stdout",
          "text": [
            "Train Data Shape (X, y): ((280, 15), (280,))\n",
            "Validation Data Shape (X, y): ((60, 15), (60,))\n",
            "Test Data Shape (X, y): ((60, 15), (60,))\n"
          ]
        }
      ]
    },
    {
      "cell_type": "code",
      "source": [
        "# mse calculation\n",
        "def mse(y_actual, y_pred):\n",
        "    error = 0.0\n",
        "\n",
        "    for actual, predicted in zip(y_actual, y_pred):\n",
        "        error += (actual - predicted) ** 2\n",
        "    mse = error / len(y_actual)\n",
        "    return mse"
      ],
      "metadata": {
        "id": "kEZVdCkvwCLM"
      },
      "execution_count": 7,
      "outputs": []
    },
    {
      "cell_type": "code",
      "source": [
        "# SVM base model\n",
        "svm_base = SVR()\n",
        "svm_base.fit(X_train, y_train)\n",
        "\n",
        "y_val_pred = svm_base.predict(X_val)\n",
        "print('Validation Set MSE:', mse(y_val, y_val_pred))"
      ],
      "metadata": {
        "id": "drer97wfwHfN",
        "colab": {
          "base_uri": "https://localhost:8080/"
        },
        "outputId": "2dfd6f1a-85e9-4e00-bc9e-1f3d9bc51e84"
      },
      "execution_count": 8,
      "outputs": [
        {
          "output_type": "stream",
          "name": "stdout",
          "text": [
            "Validation Set MSE: 190887.40728903702\n"
          ]
        }
      ]
    },
    {
      "cell_type": "code",
      "source": [
        "param_grid = {\n",
        "    'C': [0.1, 1, 10],\n",
        "    'epsilon': [0.01, 0.1, 0.5],\n",
        "    'kernel': ['linear', 'rbf', 'poly']\n",
        "}\n",
        "\n",
        "svr = SVR()\n",
        "svm_grid_search = GridSearchCV(estimator=svr, param_grid=param_grid, cv=5, scoring='neg_mean_squared_error', n_jobs=-1, verbose=1)\n",
        "svm_grid_search.fit(X_train, y_train)\n",
        "\n",
        "best_params = svm_grid_search.best_params_\n",
        "print(\"Best Parameters:\", best_params)"
      ],
      "metadata": {
        "colab": {
          "base_uri": "https://localhost:8080/"
        },
        "id": "MC_hJzn8HOtK",
        "outputId": "303278f2-e7cf-4db2-c55b-370b5d9b72eb"
      },
      "execution_count": 10,
      "outputs": [
        {
          "output_type": "stream",
          "name": "stdout",
          "text": [
            "Fitting 5 folds for each of 27 candidates, totalling 135 fits\n",
            "Best Parameters: {'C': 10, 'epsilon': 0.1, 'kernel': 'linear'}\n"
          ]
        }
      ]
    },
    {
      "cell_type": "code",
      "source": [
        "svm_final = SVR(**best_params)\n",
        "svm_final.fit(X_train, y_train)\n",
        "\n",
        "y_val_pred = svm_final.predict(X_val)\n",
        "print('Validation Set MSE:', mse(y_val, y_val_pred))"
      ],
      "metadata": {
        "colab": {
          "base_uri": "https://localhost:8080/"
        },
        "id": "I28BMqE4WMKY",
        "outputId": "ff6a74b8-cf03-48d8-9e63-ee15c41052cc"
      },
      "execution_count": 11,
      "outputs": [
        {
          "output_type": "stream",
          "name": "stdout",
          "text": [
            "Validation Set MSE: 11336.466847405549\n"
          ]
        }
      ]
    },
    {
      "cell_type": "code",
      "source": [
        "# now retrain the model on the combined training and validation set with the best hyperparameters\n",
        "X_train_val = np.concatenate((X_train, X_val))\n",
        "y_train_val = np.concatenate((y_train, y_val))\n",
        "\n",
        "svm_final.fit(X_train_val, y_train_val)\n",
        "\n",
        "y_test_pred = svm_final.predict(X_test)\n",
        "print('Test Set MSE:', mse(y_test, y_test_pred))"
      ],
      "metadata": {
        "colab": {
          "base_uri": "https://localhost:8080/"
        },
        "id": "yjKMCCh9WMHf",
        "outputId": "6e641923-bae6-437a-d582-e600aea7f87a"
      },
      "execution_count": 12,
      "outputs": [
        {
          "output_type": "stream",
          "name": "stdout",
          "text": [
            "Test Set MSE: 13779.732830605468\n"
          ]
        }
      ]
    }
  ]
}